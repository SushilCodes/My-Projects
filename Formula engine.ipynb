{
 "cells": [
  {
   "cell_type": "code",
   "execution_count": 1,
   "id": "6e08c203",
   "metadata": {},
   "outputs": [
    {
     "name": "stdout",
     "output_type": "stream",
     "text": [
      "Collecting formulas\n",
      "  Downloading formulas-1.1.0-py2.py3-none-any.whl (55 kB)\n",
      "Collecting schedula>=1.1.1\n",
      "  Downloading schedula-1.2.8-py2.py3-none-any.whl (953 kB)\n",
      "Collecting regex\n",
      "  Downloading regex-2021.8.28-cp38-cp38-win_amd64.whl (271 kB)\n",
      "Requirement already satisfied: python-dateutil in c:\\users\\admin\\anaconda3\\envs\\py38\\lib\\site-packages (from formulas) (2.8.2)\n",
      "Collecting numpy-financial\n",
      "  Downloading numpy_financial-1.0.0-py3-none-any.whl (14 kB)\n",
      "Requirement already satisfied: numpy>=1.15 in c:\\users\\admin\\anaconda3\\envs\\py38\\lib\\site-packages (from formulas) (1.20.3)\n",
      "Requirement already satisfied: six>=1.5 in c:\\users\\admin\\anaconda3\\envs\\py38\\lib\\site-packages (from python-dateutil->formulas) (1.15.0)\n",
      "Installing collected packages: schedula, regex, numpy-financial, formulas\n",
      "Successfully installed formulas-1.1.0 numpy-financial-1.0.0 regex-2021.8.28 schedula-1.2.8\n",
      "Note: you may need to restart the kernel to use updated packages.\n"
     ]
    }
   ],
   "source": [
    "pip install formulas"
   ]
  },
  {
   "cell_type": "code",
   "execution_count": 4,
   "id": "eb9d7042",
   "metadata": {},
   "outputs": [
    {
     "name": "stdout",
     "output_type": "stream",
     "text": [
      "5.0\n",
      "8.0\n",
      "3.141592653589793\n"
     ]
    }
   ],
   "source": [
    "import math\n",
    "\n",
    "x=math.sqrt(25)\n",
    "print(x)\n",
    "\n",
    "print(math.pow(2,3))#gives power\n",
    "\n",
    "print(math.pi) #give the value of a pi "
   ]
  },
  {
   "cell_type": "code",
   "execution_count": null,
   "id": "11d5c5c5",
   "metadata": {},
   "outputs": [],
   "source": []
  }
 ],
 "metadata": {
  "kernelspec": {
   "display_name": "Python 3",
   "language": "python",
   "name": "python3"
  },
  "language_info": {
   "codemirror_mode": {
    "name": "ipython",
    "version": 3
   },
   "file_extension": ".py",
   "mimetype": "text/x-python",
   "name": "python",
   "nbconvert_exporter": "python",
   "pygments_lexer": "ipython3",
   "version": "3.8.10"
  }
 },
 "nbformat": 4,
 "nbformat_minor": 5
}
