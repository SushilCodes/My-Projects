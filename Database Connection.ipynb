{
 "cells": [
  {
   "cell_type": "code",
   "execution_count": 1,
   "id": "4fc7b368",
   "metadata": {},
   "outputs": [
    {
     "name": "stdout",
     "output_type": "stream",
     "text": [
      "Requirement already satisfied: pymongo in c:\\users\\admin\\anaconda3\\envs\\py38\\lib\\site-packages (3.12.0)\n",
      "Note: you may need to restart the kernel to use updated packages.\n"
     ]
    }
   ],
   "source": [
    "pip install pymongo"
   ]
  },
  {
   "cell_type": "code",
   "execution_count": 1,
   "id": "f108733a",
   "metadata": {},
   "outputs": [
    {
     "name": "stdout",
     "output_type": "stream",
     "text": [
      "Welcome to pyMongo\n",
      "MongoClient(host=['localhost:27017'], document_class=dict, tz_aware=False, connect=True)\n"
     ]
    }
   ],
   "source": [
    "\n",
    "import pymongo\n",
    "from pymongo import MongoClient\n",
    "\n",
    "if __name__==\"__main__\":\n",
    "    print('Welcome to pyMongo')\n",
    "    client= pymongo.MongoClient(\"mongodb://localhost:27017/\")\n",
    "    print(client)\n",
    "    db=client['Gaming']                       # when we run this line it will not create db cause it must have collection type\n",
    "    collection=db['First sample of gaming']  #it still dont create db.so for creating db we need to install db\n",
    "    \n",
    "    dictionary={'name':'BGMI','Type':'Action'}\n",
    "    collection.insert_one(dictionary)\n",
    "    \n",
    "    dictionary2={'name':'PUBG','Type':'Action'}\n",
    "    collection.insert_one(dictionary2)\n",
    "    \n"
   ]
  },
  {
   "cell_type": "code",
   "execution_count": null,
   "id": "89aeb3b6",
   "metadata": {},
   "outputs": [],
   "source": [
    " "
   ]
  },
  {
   "cell_type": "code",
   "execution_count": null,
   "id": "75e9811e",
   "metadata": {},
   "outputs": [],
   "source": []
  }
 ],
 "metadata": {
  "kernelspec": {
   "display_name": "Python 3",
   "language": "python",
   "name": "python3"
  },
  "language_info": {
   "codemirror_mode": {
    "name": "ipython",
    "version": 3
   },
   "file_extension": ".py",
   "mimetype": "text/x-python",
   "name": "python",
   "nbconvert_exporter": "python",
   "pygments_lexer": "ipython3",
   "version": "3.8.10"
  }
 },
 "nbformat": 4,
 "nbformat_minor": 5
}
