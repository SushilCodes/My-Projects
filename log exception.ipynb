{
 "cells": [
  {
   "cell_type": "code",
   "execution_count": 2,
   "id": "d183b2ec",
   "metadata": {},
   "outputs": [
    {
     "name": "stdout",
     "output_type": "stream",
     "text": [
      "Please enter your roll number::0\n",
      "Value errorr exception is thrown\n",
      "The number entered is not positive\n"
     ]
    }
   ],
   "source": [
    "try:\n",
    "    roll=int(input('Please enter your roll number::'))\n",
    "    if roll<=0:\n",
    "        raise ValueError('The number entered is not positive')\n",
    "    \n",
    "except ValueError as v:\n",
    "    print('Value errorr exception is thrown')\n",
    "    print(v)"
   ]
  },
  {
   "cell_type": "code",
   "execution_count": null,
   "id": "ef355d49",
   "metadata": {},
   "outputs": [],
   "source": []
  }
 ],
 "metadata": {
  "kernelspec": {
   "display_name": "Python 3",
   "language": "python",
   "name": "python3"
  },
  "language_info": {
   "codemirror_mode": {
    "name": "ipython",
    "version": 3
   },
   "file_extension": ".py",
   "mimetype": "text/x-python",
   "name": "python",
   "nbconvert_exporter": "python",
   "pygments_lexer": "ipython3",
   "version": "3.8.10"
  }
 },
 "nbformat": 4,
 "nbformat_minor": 5
}
