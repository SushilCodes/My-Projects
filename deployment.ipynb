{
 "cells": [
  {
   "cell_type": "code",
   "execution_count": 1,
   "id": "a49af875",
   "metadata": {},
   "outputs": [
    {
     "name": "stdout",
     "output_type": "stream",
     "text": [
      "Requirement already satisfied: flask in c:\\users\\admin\\anaconda3\\envs\\py38\\lib\\site-packages (2.0.1)\n",
      "Requirement already satisfied: Werkzeug>=2.0 in c:\\users\\admin\\anaconda3\\envs\\py38\\lib\\site-packages (from flask) (2.0.1)\n",
      "Requirement already satisfied: click>=7.1.2 in c:\\users\\admin\\anaconda3\\envs\\py38\\lib\\site-packages (from flask) (8.0.1)\n",
      "Requirement already satisfied: Jinja2>=3.0 in c:\\users\\admin\\anaconda3\\envs\\py38\\lib\\site-packages (from flask) (3.0.1)\n",
      "Requirement already satisfied: itsdangerous>=2.0 in c:\\users\\admin\\anaconda3\\envs\\py38\\lib\\site-packages (from flask) (2.0.1)\n",
      "Requirement already satisfied: colorama in c:\\users\\admin\\anaconda3\\envs\\py38\\lib\\site-packages (from click>=7.1.2->flask) (0.4.4)\n",
      "Requirement already satisfied: MarkupSafe>=2.0 in c:\\users\\admin\\anaconda3\\envs\\py38\\lib\\site-packages (from Jinja2>=3.0->flask) (2.0.1)\n",
      "Note: you may need to restart the kernel to use updated packages.\n"
     ]
    }
   ],
   "source": [
    "pip install flask"
   ]
  },
  {
   "cell_type": "code",
   "execution_count": 1,
   "id": "c7f5627b",
   "metadata": {},
   "outputs": [
    {
     "name": "stdout",
     "output_type": "stream",
     "text": [
      " * Serving Flask app '__main__' (lazy loading)\n",
      " * Environment: production\n",
      "\u001b[31m   WARNING: This is a development server. Do not use it in a production deployment.\u001b[0m\n",
      "\u001b[2m   Use a production WSGI server instead.\u001b[0m\n",
      " * Debug mode: on\n"
     ]
    },
    {
     "name": "stderr",
     "output_type": "stream",
     "text": [
      " * Restarting with stat\n"
     ]
    },
    {
     "ename": "SystemExit",
     "evalue": "1",
     "output_type": "error",
     "traceback": [
      "An exception has occurred, use %tb to see the full traceback.\n",
      "\u001b[1;31mSystemExit\u001b[0m\u001b[1;31m:\u001b[0m 1\n"
     ]
    },
    {
     "name": "stderr",
     "output_type": "stream",
     "text": [
      "C:\\Users\\Admin\\anaconda3\\envs\\py38\\lib\\site-packages\\IPython\\core\\interactiveshell.py:3445: UserWarning: To exit: use 'exit', 'quit', or Ctrl-D.\n",
      "  warn(\"To exit: use 'exit', 'quit', or Ctrl-D.\", stacklevel=1)\n"
     ]
    }
   ],
   "source": [
    "from flask import Flask\n",
    "\n",
    "app=Flask(__name__)\n",
    "\n",
    "@app.route('/')\n",
    "def hello():\n",
    "    return \"<h1>Hello world<h1>\"\n",
    "\n",
    "if __name__=='__main__':\n",
    "    app.run(debug=True)"
   ]
  },
  {
   "cell_type": "code",
   "execution_count": null,
   "id": "b2276878",
   "metadata": {},
   "outputs": [],
   "source": [
    "http://127.0.0.1:5000/"
   ]
  },
  {
   "cell_type": "code",
   "execution_count": null,
   "id": "412c5bdd",
   "metadata": {},
   "outputs": [],
   "source": []
  }
 ],
 "metadata": {
  "kernelspec": {
   "display_name": "Python 3",
   "language": "python",
   "name": "python3"
  },
  "language_info": {
   "codemirror_mode": {
    "name": "ipython",
    "version": 3
   },
   "file_extension": ".py",
   "mimetype": "text/x-python",
   "name": "python",
   "nbconvert_exporter": "python",
   "pygments_lexer": "ipython3",
   "version": "3.8.10"
  }
 },
 "nbformat": 4,
 "nbformat_minor": 5
}
